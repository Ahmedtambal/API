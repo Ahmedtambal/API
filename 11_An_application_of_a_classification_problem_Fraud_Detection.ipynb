{
  "nbformat": 4,
  "nbformat_minor": 0,
  "metadata": {
    "colab": {
      "provenance": [],
      "mount_file_id": "1C9B3J55iiG9x7KN_-8BjTG9n-cwkv1Mz",
      "authorship_tag": "ABX9TyNWYgiJBWvOcq7l1dfWKNkM",
      "include_colab_link": true
    },
    "kernelspec": {
      "name": "python3",
      "display_name": "Python 3"
    },
    "language_info": {
      "name": "python"
    }
  },
  "cells": [
    {
      "cell_type": "markdown",
      "metadata": {
        "id": "view-in-github",
        "colab_type": "text"
      },
      "source": [
        "<a href=\"https://colab.research.google.com/github/Ahmedtambal/API/blob/master/11_An_application_of_a_classification_problem_Fraud_Detection.ipynb\" target=\"_parent\"><img src=\"https://colab.research.google.com/assets/colab-badge.svg\" alt=\"Open In Colab\"/></a>"
      ]
    },
    {
      "cell_type": "markdown",
      "source": [
        "An application of a classification problem - Fraud Detection\n",
        "Electricity and Gas Consumption Challenge\n",
        "by : Ahmed Tambal (Sudan)\n",
        "\n",
        "huge appreciation for Zindi for all It's efforts to bring African Data Scientists closer\n",
        "\n",
        "Index :\n",
        "\n",
        "importing libraries\n",
        "\n",
        "*   importing libraries\n",
        "*   basic EDA\n",
        "*   feature engeneering\n",
        "*   modelling and fitting\n",
        "*   make some prediction\n",
        "*   submission file\n"
      ],
      "metadata": {
        "id": "EJV0T1XSLWqx"
      }
    },
    {
      "cell_type": "code",
      "execution_count": null,
      "metadata": {
        "id": "Fn5QLVV1RxOq"
      },
      "outputs": [],
      "source": [
        "#importing libraries\n",
        "import numpy as np\n",
        "import pandas as pd\n",
        "import datetime\n",
        "import gc\n",
        "import matplotlib.pyplot as plt\n",
        "import seaborn as sns\n",
        "\n",
        "from sklearn import preprocessing\n",
        "from sklearn.metrics import roc_auc_score\n",
        "import lightgbm as lgb\n",
        "from sklearn.model_selection import StratifiedKFold\n",
        "from sklearn.metrics import mean_squared_error\n",
        "from lightgbm import LGBMClassifier\n",
        "import time\n",
        "\n",
        "seed=47\n",
        "import warnings\n",
        "warnings.filterwarnings('ignore')\n",
        "np.random.seed(4590)"
      ]
    },
    {
      "cell_type": "code",
      "execution_count": null,
      "metadata": {
        "id": "ewPTKgGUSVa_"
      },
      "outputs": [],
      "source": [
        "#Getting the data from Google Drive\n",
        "\n",
        "train_invoice = \"/content/drive/MyDrive/Fraud Detection/invoice_train.csv\"\n",
        "train_client = \"/content/drive/MyDrive/Fraud Detection/client_train.csv\"\n",
        "test_invoice = \"/content/drive/MyDrive/Fraud Detection/invoice_test.csv\"\n",
        "test_client = \"/content/drive/MyDrive/Fraud Detection/client_test.csv\""
      ]
    },
    {
      "cell_type": "code",
      "execution_count": null,
      "metadata": {
        "id": "tw2k0PLRVfma"
      },
      "outputs": [],
      "source": [
        "#Reading The data using pd.read_csv\n",
        "\n",
        "invoice_train = pd.read_csv(\"/content/drive/MyDrive/Fraud Detection/invoice_train.csv\",low_memory=False)\n",
        "invoice_test = pd.read_csv(\"/content/drive/MyDrive/Fraud Detection/invoice_test.csv\",low_memory=False)\n",
        "client_train = pd.read_csv(\"/content/drive/MyDrive/Fraud Detection/client_train.csv\",low_memory=False)\n",
        "client_test = pd.read_csv(\"/content/drive/MyDrive/Fraud Detection/client_test.csv\",low_memory=False)\n",
        "SampleSubmission = pd.read_csv(\"/content/drive/MyDrive/Fraud Detection/SampleSubmission.csv\",low_memory=False)"
      ]
    },
    {
      "cell_type": "code",
      "execution_count": null,
      "metadata": {
        "id": "jPkD56X-lqO2",
        "colab": {
          "base_uri": "https://localhost:8080/",
          "height": 206
        },
        "outputId": "5cf80516-9006-46e8-d29d-033678b638cd"
      },
      "outputs": [
        {
          "output_type": "execute_result",
          "data": {
            "text/plain": [
              "   disrict          client_id  client_catg  region creation_date  target\n",
              "0       60     train_Client_0           11     101    31/12/1994     0.0\n",
              "1       69     train_Client_1           11     107    29/05/2002     0.0\n",
              "2       62    train_Client_10           11     301    13/03/1986     0.0\n",
              "3       69   train_Client_100           11     105    11/07/1996     0.0\n",
              "4       62  train_Client_1000           11     303    14/10/2014     0.0"
            ],
            "text/html": [
              "\n",
              "  <div id=\"df-d80b2988-3795-4de0-bf22-9f81dc078e06\">\n",
              "    <div class=\"colab-df-container\">\n",
              "      <div>\n",
              "<style scoped>\n",
              "    .dataframe tbody tr th:only-of-type {\n",
              "        vertical-align: middle;\n",
              "    }\n",
              "\n",
              "    .dataframe tbody tr th {\n",
              "        vertical-align: top;\n",
              "    }\n",
              "\n",
              "    .dataframe thead th {\n",
              "        text-align: right;\n",
              "    }\n",
              "</style>\n",
              "<table border=\"1\" class=\"dataframe\">\n",
              "  <thead>\n",
              "    <tr style=\"text-align: right;\">\n",
              "      <th></th>\n",
              "      <th>disrict</th>\n",
              "      <th>client_id</th>\n",
              "      <th>client_catg</th>\n",
              "      <th>region</th>\n",
              "      <th>creation_date</th>\n",
              "      <th>target</th>\n",
              "    </tr>\n",
              "  </thead>\n",
              "  <tbody>\n",
              "    <tr>\n",
              "      <th>0</th>\n",
              "      <td>60</td>\n",
              "      <td>train_Client_0</td>\n",
              "      <td>11</td>\n",
              "      <td>101</td>\n",
              "      <td>31/12/1994</td>\n",
              "      <td>0.0</td>\n",
              "    </tr>\n",
              "    <tr>\n",
              "      <th>1</th>\n",
              "      <td>69</td>\n",
              "      <td>train_Client_1</td>\n",
              "      <td>11</td>\n",
              "      <td>107</td>\n",
              "      <td>29/05/2002</td>\n",
              "      <td>0.0</td>\n",
              "    </tr>\n",
              "    <tr>\n",
              "      <th>2</th>\n",
              "      <td>62</td>\n",
              "      <td>train_Client_10</td>\n",
              "      <td>11</td>\n",
              "      <td>301</td>\n",
              "      <td>13/03/1986</td>\n",
              "      <td>0.0</td>\n",
              "    </tr>\n",
              "    <tr>\n",
              "      <th>3</th>\n",
              "      <td>69</td>\n",
              "      <td>train_Client_100</td>\n",
              "      <td>11</td>\n",
              "      <td>105</td>\n",
              "      <td>11/07/1996</td>\n",
              "      <td>0.0</td>\n",
              "    </tr>\n",
              "    <tr>\n",
              "      <th>4</th>\n",
              "      <td>62</td>\n",
              "      <td>train_Client_1000</td>\n",
              "      <td>11</td>\n",
              "      <td>303</td>\n",
              "      <td>14/10/2014</td>\n",
              "      <td>0.0</td>\n",
              "    </tr>\n",
              "  </tbody>\n",
              "</table>\n",
              "</div>\n",
              "      <button class=\"colab-df-convert\" onclick=\"convertToInteractive('df-d80b2988-3795-4de0-bf22-9f81dc078e06')\"\n",
              "              title=\"Convert this dataframe to an interactive table.\"\n",
              "              style=\"display:none;\">\n",
              "        \n",
              "  <svg xmlns=\"http://www.w3.org/2000/svg\" height=\"24px\"viewBox=\"0 0 24 24\"\n",
              "       width=\"24px\">\n",
              "    <path d=\"M0 0h24v24H0V0z\" fill=\"none\"/>\n",
              "    <path d=\"M18.56 5.44l.94 2.06.94-2.06 2.06-.94-2.06-.94-.94-2.06-.94 2.06-2.06.94zm-11 1L8.5 8.5l.94-2.06 2.06-.94-2.06-.94L8.5 2.5l-.94 2.06-2.06.94zm10 10l.94 2.06.94-2.06 2.06-.94-2.06-.94-.94-2.06-.94 2.06-2.06.94z\"/><path d=\"M17.41 7.96l-1.37-1.37c-.4-.4-.92-.59-1.43-.59-.52 0-1.04.2-1.43.59L10.3 9.45l-7.72 7.72c-.78.78-.78 2.05 0 2.83L4 21.41c.39.39.9.59 1.41.59.51 0 1.02-.2 1.41-.59l7.78-7.78 2.81-2.81c.8-.78.8-2.07 0-2.86zM5.41 20L4 18.59l7.72-7.72 1.47 1.35L5.41 20z\"/>\n",
              "  </svg>\n",
              "      </button>\n",
              "      \n",
              "  <style>\n",
              "    .colab-df-container {\n",
              "      display:flex;\n",
              "      flex-wrap:wrap;\n",
              "      gap: 12px;\n",
              "    }\n",
              "\n",
              "    .colab-df-convert {\n",
              "      background-color: #E8F0FE;\n",
              "      border: none;\n",
              "      border-radius: 50%;\n",
              "      cursor: pointer;\n",
              "      display: none;\n",
              "      fill: #1967D2;\n",
              "      height: 32px;\n",
              "      padding: 0 0 0 0;\n",
              "      width: 32px;\n",
              "    }\n",
              "\n",
              "    .colab-df-convert:hover {\n",
              "      background-color: #E2EBFA;\n",
              "      box-shadow: 0px 1px 2px rgba(60, 64, 67, 0.3), 0px 1px 3px 1px rgba(60, 64, 67, 0.15);\n",
              "      fill: #174EA6;\n",
              "    }\n",
              "\n",
              "    [theme=dark] .colab-df-convert {\n",
              "      background-color: #3B4455;\n",
              "      fill: #D2E3FC;\n",
              "    }\n",
              "\n",
              "    [theme=dark] .colab-df-convert:hover {\n",
              "      background-color: #434B5C;\n",
              "      box-shadow: 0px 1px 3px 1px rgba(0, 0, 0, 0.15);\n",
              "      filter: drop-shadow(0px 1px 2px rgba(0, 0, 0, 0.3));\n",
              "      fill: #FFFFFF;\n",
              "    }\n",
              "  </style>\n",
              "\n",
              "      <script>\n",
              "        const buttonEl =\n",
              "          document.querySelector('#df-d80b2988-3795-4de0-bf22-9f81dc078e06 button.colab-df-convert');\n",
              "        buttonEl.style.display =\n",
              "          google.colab.kernel.accessAllowed ? 'block' : 'none';\n",
              "\n",
              "        async function convertToInteractive(key) {\n",
              "          const element = document.querySelector('#df-d80b2988-3795-4de0-bf22-9f81dc078e06');\n",
              "          const dataTable =\n",
              "            await google.colab.kernel.invokeFunction('convertToInteractive',\n",
              "                                                     [key], {});\n",
              "          if (!dataTable) return;\n",
              "\n",
              "          const docLinkHtml = 'Like what you see? Visit the ' +\n",
              "            '<a target=\"_blank\" href=https://colab.research.google.com/notebooks/data_table.ipynb>data table notebook</a>'\n",
              "            + ' to learn more about interactive tables.';\n",
              "          element.innerHTML = '';\n",
              "          dataTable['output_type'] = 'display_data';\n",
              "          await google.colab.output.renderOutput(dataTable, element);\n",
              "          const docLink = document.createElement('div');\n",
              "          docLink.innerHTML = docLinkHtml;\n",
              "          element.appendChild(docLink);\n",
              "        }\n",
              "      </script>\n",
              "    </div>\n",
              "  </div>\n",
              "  "
            ]
          },
          "metadata": {},
          "execution_count": 203
        }
      ],
      "source": [
        "# first 5 rows\n",
        "client_train.head()"
      ]
    },
    {
      "cell_type": "code",
      "execution_count": null,
      "metadata": {
        "id": "T5zQPgS3eZmo",
        "colab": {
          "base_uri": "https://localhost:8080/",
          "height": 270
        },
        "outputId": "b7e2dedf-972e-410f-8fc9-42454a9352c9"
      },
      "outputs": [
        {
          "output_type": "execute_result",
          "data": {
            "text/plain": [
              "        client_id invoice_date  tarif_type  counter_number counter_statue  \\\n",
              "0  train_Client_0   2014-03-24          11         1335667              0   \n",
              "1  train_Client_0   2013-03-29          11         1335667              0   \n",
              "2  train_Client_0   2015-03-23          11         1335667              0   \n",
              "3  train_Client_0   2015-07-13          11         1335667              0   \n",
              "4  train_Client_0   2016-11-17          11         1335667              0   \n",
              "\n",
              "   counter_code  reading_remarque  counter_coefficient  consommation_level_1  \\\n",
              "0           203                 8                    1                    82   \n",
              "1           203                 6                    1                  1200   \n",
              "2           203                 8                    1                   123   \n",
              "3           207                 8                    1                   102   \n",
              "4           207                 9                    1                   572   \n",
              "\n",
              "   consommation_level_2  consommation_level_3  consommation_level_4  \\\n",
              "0                     0                     0                     0   \n",
              "1                   184                     0                     0   \n",
              "2                     0                     0                     0   \n",
              "3                     0                     0                     0   \n",
              "4                     0                     0                     0   \n",
              "\n",
              "   old_index  new_index  months_number counter_type  \n",
              "0      14302      14384              4         ELEC  \n",
              "1      12294      13678              4         ELEC  \n",
              "2      14624      14747              4         ELEC  \n",
              "3      14747      14849              4         ELEC  \n",
              "4      15066      15638             12         ELEC  "
            ],
            "text/html": [
              "\n",
              "  <div id=\"df-ece04b18-dda2-46de-9a84-d82d5ab64dd1\">\n",
              "    <div class=\"colab-df-container\">\n",
              "      <div>\n",
              "<style scoped>\n",
              "    .dataframe tbody tr th:only-of-type {\n",
              "        vertical-align: middle;\n",
              "    }\n",
              "\n",
              "    .dataframe tbody tr th {\n",
              "        vertical-align: top;\n",
              "    }\n",
              "\n",
              "    .dataframe thead th {\n",
              "        text-align: right;\n",
              "    }\n",
              "</style>\n",
              "<table border=\"1\" class=\"dataframe\">\n",
              "  <thead>\n",
              "    <tr style=\"text-align: right;\">\n",
              "      <th></th>\n",
              "      <th>client_id</th>\n",
              "      <th>invoice_date</th>\n",
              "      <th>tarif_type</th>\n",
              "      <th>counter_number</th>\n",
              "      <th>counter_statue</th>\n",
              "      <th>counter_code</th>\n",
              "      <th>reading_remarque</th>\n",
              "      <th>counter_coefficient</th>\n",
              "      <th>consommation_level_1</th>\n",
              "      <th>consommation_level_2</th>\n",
              "      <th>consommation_level_3</th>\n",
              "      <th>consommation_level_4</th>\n",
              "      <th>old_index</th>\n",
              "      <th>new_index</th>\n",
              "      <th>months_number</th>\n",
              "      <th>counter_type</th>\n",
              "    </tr>\n",
              "  </thead>\n",
              "  <tbody>\n",
              "    <tr>\n",
              "      <th>0</th>\n",
              "      <td>train_Client_0</td>\n",
              "      <td>2014-03-24</td>\n",
              "      <td>11</td>\n",
              "      <td>1335667</td>\n",
              "      <td>0</td>\n",
              "      <td>203</td>\n",
              "      <td>8</td>\n",
              "      <td>1</td>\n",
              "      <td>82</td>\n",
              "      <td>0</td>\n",
              "      <td>0</td>\n",
              "      <td>0</td>\n",
              "      <td>14302</td>\n",
              "      <td>14384</td>\n",
              "      <td>4</td>\n",
              "      <td>ELEC</td>\n",
              "    </tr>\n",
              "    <tr>\n",
              "      <th>1</th>\n",
              "      <td>train_Client_0</td>\n",
              "      <td>2013-03-29</td>\n",
              "      <td>11</td>\n",
              "      <td>1335667</td>\n",
              "      <td>0</td>\n",
              "      <td>203</td>\n",
              "      <td>6</td>\n",
              "      <td>1</td>\n",
              "      <td>1200</td>\n",
              "      <td>184</td>\n",
              "      <td>0</td>\n",
              "      <td>0</td>\n",
              "      <td>12294</td>\n",
              "      <td>13678</td>\n",
              "      <td>4</td>\n",
              "      <td>ELEC</td>\n",
              "    </tr>\n",
              "    <tr>\n",
              "      <th>2</th>\n",
              "      <td>train_Client_0</td>\n",
              "      <td>2015-03-23</td>\n",
              "      <td>11</td>\n",
              "      <td>1335667</td>\n",
              "      <td>0</td>\n",
              "      <td>203</td>\n",
              "      <td>8</td>\n",
              "      <td>1</td>\n",
              "      <td>123</td>\n",
              "      <td>0</td>\n",
              "      <td>0</td>\n",
              "      <td>0</td>\n",
              "      <td>14624</td>\n",
              "      <td>14747</td>\n",
              "      <td>4</td>\n",
              "      <td>ELEC</td>\n",
              "    </tr>\n",
              "    <tr>\n",
              "      <th>3</th>\n",
              "      <td>train_Client_0</td>\n",
              "      <td>2015-07-13</td>\n",
              "      <td>11</td>\n",
              "      <td>1335667</td>\n",
              "      <td>0</td>\n",
              "      <td>207</td>\n",
              "      <td>8</td>\n",
              "      <td>1</td>\n",
              "      <td>102</td>\n",
              "      <td>0</td>\n",
              "      <td>0</td>\n",
              "      <td>0</td>\n",
              "      <td>14747</td>\n",
              "      <td>14849</td>\n",
              "      <td>4</td>\n",
              "      <td>ELEC</td>\n",
              "    </tr>\n",
              "    <tr>\n",
              "      <th>4</th>\n",
              "      <td>train_Client_0</td>\n",
              "      <td>2016-11-17</td>\n",
              "      <td>11</td>\n",
              "      <td>1335667</td>\n",
              "      <td>0</td>\n",
              "      <td>207</td>\n",
              "      <td>9</td>\n",
              "      <td>1</td>\n",
              "      <td>572</td>\n",
              "      <td>0</td>\n",
              "      <td>0</td>\n",
              "      <td>0</td>\n",
              "      <td>15066</td>\n",
              "      <td>15638</td>\n",
              "      <td>12</td>\n",
              "      <td>ELEC</td>\n",
              "    </tr>\n",
              "  </tbody>\n",
              "</table>\n",
              "</div>\n",
              "      <button class=\"colab-df-convert\" onclick=\"convertToInteractive('df-ece04b18-dda2-46de-9a84-d82d5ab64dd1')\"\n",
              "              title=\"Convert this dataframe to an interactive table.\"\n",
              "              style=\"display:none;\">\n",
              "        \n",
              "  <svg xmlns=\"http://www.w3.org/2000/svg\" height=\"24px\"viewBox=\"0 0 24 24\"\n",
              "       width=\"24px\">\n",
              "    <path d=\"M0 0h24v24H0V0z\" fill=\"none\"/>\n",
              "    <path d=\"M18.56 5.44l.94 2.06.94-2.06 2.06-.94-2.06-.94-.94-2.06-.94 2.06-2.06.94zm-11 1L8.5 8.5l.94-2.06 2.06-.94-2.06-.94L8.5 2.5l-.94 2.06-2.06.94zm10 10l.94 2.06.94-2.06 2.06-.94-2.06-.94-.94-2.06-.94 2.06-2.06.94z\"/><path d=\"M17.41 7.96l-1.37-1.37c-.4-.4-.92-.59-1.43-.59-.52 0-1.04.2-1.43.59L10.3 9.45l-7.72 7.72c-.78.78-.78 2.05 0 2.83L4 21.41c.39.39.9.59 1.41.59.51 0 1.02-.2 1.41-.59l7.78-7.78 2.81-2.81c.8-.78.8-2.07 0-2.86zM5.41 20L4 18.59l7.72-7.72 1.47 1.35L5.41 20z\"/>\n",
              "  </svg>\n",
              "      </button>\n",
              "      \n",
              "  <style>\n",
              "    .colab-df-container {\n",
              "      display:flex;\n",
              "      flex-wrap:wrap;\n",
              "      gap: 12px;\n",
              "    }\n",
              "\n",
              "    .colab-df-convert {\n",
              "      background-color: #E8F0FE;\n",
              "      border: none;\n",
              "      border-radius: 50%;\n",
              "      cursor: pointer;\n",
              "      display: none;\n",
              "      fill: #1967D2;\n",
              "      height: 32px;\n",
              "      padding: 0 0 0 0;\n",
              "      width: 32px;\n",
              "    }\n",
              "\n",
              "    .colab-df-convert:hover {\n",
              "      background-color: #E2EBFA;\n",
              "      box-shadow: 0px 1px 2px rgba(60, 64, 67, 0.3), 0px 1px 3px 1px rgba(60, 64, 67, 0.15);\n",
              "      fill: #174EA6;\n",
              "    }\n",
              "\n",
              "    [theme=dark] .colab-df-convert {\n",
              "      background-color: #3B4455;\n",
              "      fill: #D2E3FC;\n",
              "    }\n",
              "\n",
              "    [theme=dark] .colab-df-convert:hover {\n",
              "      background-color: #434B5C;\n",
              "      box-shadow: 0px 1px 3px 1px rgba(0, 0, 0, 0.15);\n",
              "      filter: drop-shadow(0px 1px 2px rgba(0, 0, 0, 0.3));\n",
              "      fill: #FFFFFF;\n",
              "    }\n",
              "  </style>\n",
              "\n",
              "      <script>\n",
              "        const buttonEl =\n",
              "          document.querySelector('#df-ece04b18-dda2-46de-9a84-d82d5ab64dd1 button.colab-df-convert');\n",
              "        buttonEl.style.display =\n",
              "          google.colab.kernel.accessAllowed ? 'block' : 'none';\n",
              "\n",
              "        async function convertToInteractive(key) {\n",
              "          const element = document.querySelector('#df-ece04b18-dda2-46de-9a84-d82d5ab64dd1');\n",
              "          const dataTable =\n",
              "            await google.colab.kernel.invokeFunction('convertToInteractive',\n",
              "                                                     [key], {});\n",
              "          if (!dataTable) return;\n",
              "\n",
              "          const docLinkHtml = 'Like what you see? Visit the ' +\n",
              "            '<a target=\"_blank\" href=https://colab.research.google.com/notebooks/data_table.ipynb>data table notebook</a>'\n",
              "            + ' to learn more about interactive tables.';\n",
              "          element.innerHTML = '';\n",
              "          dataTable['output_type'] = 'display_data';\n",
              "          await google.colab.output.renderOutput(dataTable, element);\n",
              "          const docLink = document.createElement('div');\n",
              "          docLink.innerHTML = docLinkHtml;\n",
              "          element.appendChild(docLink);\n",
              "        }\n",
              "      </script>\n",
              "    </div>\n",
              "  </div>\n",
              "  "
            ]
          },
          "metadata": {},
          "execution_count": 204
        }
      ],
      "source": [
        "# first 5 rows\n",
        "invoice_train.head()\n",
        ""
      ]
    },
    {
      "cell_type": "code",
      "execution_count": null,
      "metadata": {
        "id": "38bv59vLlqR5",
        "colab": {
          "base_uri": "https://localhost:8080/"
        },
        "outputId": "fdf2c5be-d428-4340-e3c3-01ac3c4fff30"
      },
      "outputs": [
        {
          "output_type": "stream",
          "name": "stdout",
          "text": [
            "<class 'pandas.core.frame.DataFrame'>\n",
            "RangeIndex: 135493 entries, 0 to 135492\n",
            "Data columns (total 6 columns):\n",
            " #   Column         Non-Null Count   Dtype  \n",
            "---  ------         --------------   -----  \n",
            " 0   disrict        135493 non-null  int64  \n",
            " 1   client_id      135493 non-null  object \n",
            " 2   client_catg    135493 non-null  int64  \n",
            " 3   region         135493 non-null  int64  \n",
            " 4   creation_date  135493 non-null  object \n",
            " 5   target         135493 non-null  float64\n",
            "dtypes: float64(1), int64(3), object(2)\n",
            "memory usage: 6.2+ MB\n"
          ]
        }
      ],
      "source": [
        "# some info about the data\n",
        "\n",
        "client_train.info()"
      ]
    },
    {
      "cell_type": "code",
      "execution_count": null,
      "metadata": {
        "id": "GG0GuwvclqU7",
        "colab": {
          "base_uri": "https://localhost:8080/"
        },
        "outputId": "810993cf-23a0-4419-d3e8-59d380268a18"
      },
      "outputs": [
        {
          "output_type": "stream",
          "name": "stdout",
          "text": [
            "<class 'pandas.core.frame.DataFrame'>\n",
            "RangeIndex: 4476749 entries, 0 to 4476748\n",
            "Data columns (total 16 columns):\n",
            " #   Column                Dtype \n",
            "---  ------                ----- \n",
            " 0   client_id             object\n",
            " 1   invoice_date          object\n",
            " 2   tarif_type            int64 \n",
            " 3   counter_number        int64 \n",
            " 4   counter_statue        object\n",
            " 5   counter_code          int64 \n",
            " 6   reading_remarque      int64 \n",
            " 7   counter_coefficient   int64 \n",
            " 8   consommation_level_1  int64 \n",
            " 9   consommation_level_2  int64 \n",
            " 10  consommation_level_3  int64 \n",
            " 11  consommation_level_4  int64 \n",
            " 12  old_index             int64 \n",
            " 13  new_index             int64 \n",
            " 14  months_number         int64 \n",
            " 15  counter_type          object\n",
            "dtypes: int64(12), object(4)\n",
            "memory usage: 546.5+ MB\n"
          ]
        }
      ],
      "source": [
        "# some info about the data\n",
        "\n",
        "invoice_train.info()"
      ]
    },
    {
      "cell_type": "code",
      "execution_count": null,
      "metadata": {
        "id": "X1A5msuvlqYU",
        "colab": {
          "base_uri": "https://localhost:8080/"
        },
        "outputId": "c963caa5-7de4-4f6f-f99d-685f902eecc5"
      },
      "outputs": [
        {
          "output_type": "execute_result",
          "data": {
            "text/plain": [
              "client_id               0\n",
              "invoice_date            0\n",
              "tarif_type              0\n",
              "counter_number          0\n",
              "counter_statue          0\n",
              "counter_code            0\n",
              "reading_remarque        0\n",
              "counter_coefficient     0\n",
              "consommation_level_1    0\n",
              "consommation_level_2    0\n",
              "consommation_level_3    0\n",
              "consommation_level_4    0\n",
              "old_index               0\n",
              "new_index               0\n",
              "months_number           0\n",
              "counter_type            0\n",
              "dtype: int64"
            ]
          },
          "metadata": {},
          "execution_count": 207
        }
      ],
      "source": [
        "# checking to see if there's empty values\n",
        "\n",
        "invoice_train.isna().sum()"
      ]
    },
    {
      "cell_type": "code",
      "execution_count": null,
      "metadata": {
        "id": "MUaAhce2lqbv",
        "colab": {
          "base_uri": "https://localhost:8080/"
        },
        "outputId": "225c7963-b9be-4627-82ff-23a7f4411549"
      },
      "outputs": [
        {
          "output_type": "execute_result",
          "data": {
            "text/plain": [
              "disrict          0\n",
              "client_id        0\n",
              "client_catg      0\n",
              "region           0\n",
              "creation_date    0\n",
              "target           0\n",
              "dtype: int64"
            ]
          },
          "metadata": {},
          "execution_count": 208
        }
      ],
      "source": [
        "# checking to see if there's empty values\n",
        "\n",
        "client_train.isna().sum()"
      ]
    },
    {
      "cell_type": "code",
      "execution_count": null,
      "metadata": {
        "id": "3gO3U8w-lqen",
        "colab": {
          "base_uri": "https://localhost:8080/",
          "height": 364
        },
        "outputId": "6e9b0fbd-7a0f-44e0-d25f-2c52a715f6e3"
      },
      "outputs": [
        {
          "output_type": "execute_result",
          "data": {
            "text/plain": [
              "         tarif_type  counter_number  counter_code  reading_remarque  \\\n",
              "count  4.476749e+06    4.476749e+06  4.476749e+06      4.476749e+06   \n",
              "mean   2.012804e+01    1.230587e+11  1.724884e+02      7.321702e+00   \n",
              "std    1.347256e+01    1.657267e+12  1.338871e+02      1.571654e+00   \n",
              "min    8.000000e+00    0.000000e+00  0.000000e+00      5.000000e+00   \n",
              "25%    1.100000e+01    1.211080e+05  5.000000e+00      6.000000e+00   \n",
              "50%    1.100000e+01    4.945610e+05  2.030000e+02      8.000000e+00   \n",
              "75%    4.000000e+01    1.115161e+06  2.070000e+02      9.000000e+00   \n",
              "max    4.500000e+01    2.798115e+13  6.000000e+02      4.130000e+02   \n",
              "\n",
              "       counter_coefficient  consommation_level_1  consommation_level_2  \\\n",
              "count         4.476749e+06          4.476749e+06          4.476749e+06   \n",
              "mean          1.003040e+00          4.109795e+02          1.093225e+02   \n",
              "std           3.083466e-01          7.573080e+02          1.220123e+03   \n",
              "min           0.000000e+00          0.000000e+00          0.000000e+00   \n",
              "25%           1.000000e+00          7.900000e+01          0.000000e+00   \n",
              "50%           1.000000e+00          2.740000e+02          0.000000e+00   \n",
              "75%           1.000000e+00          6.000000e+02          0.000000e+00   \n",
              "max           5.000000e+01          9.999100e+05          9.990730e+05   \n",
              "\n",
              "       consommation_level_3  consommation_level_4     old_index     new_index  \\\n",
              "count          4.476749e+06          4.476749e+06  4.476749e+06  4.476749e+06   \n",
              "mean           2.030620e+01          5.292588e+01  1.776700e+04  1.834970e+04   \n",
              "std            1.574239e+02          8.754725e+02  4.036693e+04  4.095321e+04   \n",
              "min            0.000000e+00          0.000000e+00  0.000000e+00  0.000000e+00   \n",
              "25%            0.000000e+00          0.000000e+00  1.791000e+03  2.056000e+03   \n",
              "50%            0.000000e+00          0.000000e+00  7.690000e+03  8.192000e+03   \n",
              "75%            0.000000e+00          0.000000e+00  2.166000e+04  2.234300e+04   \n",
              "max            6.449200e+04          5.479460e+05  2.800280e+06  2.870972e+06   \n",
              "\n",
              "       months_number  \n",
              "count   4.476749e+06  \n",
              "mean    4.483095e+01  \n",
              "std     3.128335e+03  \n",
              "min     0.000000e+00  \n",
              "25%     4.000000e+00  \n",
              "50%     4.000000e+00  \n",
              "75%     4.000000e+00  \n",
              "max     6.366240e+05  "
            ],
            "text/html": [
              "\n",
              "  <div id=\"df-b5fd7074-b6c9-4cfd-8da1-784a398f19e5\">\n",
              "    <div class=\"colab-df-container\">\n",
              "      <div>\n",
              "<style scoped>\n",
              "    .dataframe tbody tr th:only-of-type {\n",
              "        vertical-align: middle;\n",
              "    }\n",
              "\n",
              "    .dataframe tbody tr th {\n",
              "        vertical-align: top;\n",
              "    }\n",
              "\n",
              "    .dataframe thead th {\n",
              "        text-align: right;\n",
              "    }\n",
              "</style>\n",
              "<table border=\"1\" class=\"dataframe\">\n",
              "  <thead>\n",
              "    <tr style=\"text-align: right;\">\n",
              "      <th></th>\n",
              "      <th>tarif_type</th>\n",
              "      <th>counter_number</th>\n",
              "      <th>counter_code</th>\n",
              "      <th>reading_remarque</th>\n",
              "      <th>counter_coefficient</th>\n",
              "      <th>consommation_level_1</th>\n",
              "      <th>consommation_level_2</th>\n",
              "      <th>consommation_level_3</th>\n",
              "      <th>consommation_level_4</th>\n",
              "      <th>old_index</th>\n",
              "      <th>new_index</th>\n",
              "      <th>months_number</th>\n",
              "    </tr>\n",
              "  </thead>\n",
              "  <tbody>\n",
              "    <tr>\n",
              "      <th>count</th>\n",
              "      <td>4.476749e+06</td>\n",
              "      <td>4.476749e+06</td>\n",
              "      <td>4.476749e+06</td>\n",
              "      <td>4.476749e+06</td>\n",
              "      <td>4.476749e+06</td>\n",
              "      <td>4.476749e+06</td>\n",
              "      <td>4.476749e+06</td>\n",
              "      <td>4.476749e+06</td>\n",
              "      <td>4.476749e+06</td>\n",
              "      <td>4.476749e+06</td>\n",
              "      <td>4.476749e+06</td>\n",
              "      <td>4.476749e+06</td>\n",
              "    </tr>\n",
              "    <tr>\n",
              "      <th>mean</th>\n",
              "      <td>2.012804e+01</td>\n",
              "      <td>1.230587e+11</td>\n",
              "      <td>1.724884e+02</td>\n",
              "      <td>7.321702e+00</td>\n",
              "      <td>1.003040e+00</td>\n",
              "      <td>4.109795e+02</td>\n",
              "      <td>1.093225e+02</td>\n",
              "      <td>2.030620e+01</td>\n",
              "      <td>5.292588e+01</td>\n",
              "      <td>1.776700e+04</td>\n",
              "      <td>1.834970e+04</td>\n",
              "      <td>4.483095e+01</td>\n",
              "    </tr>\n",
              "    <tr>\n",
              "      <th>std</th>\n",
              "      <td>1.347256e+01</td>\n",
              "      <td>1.657267e+12</td>\n",
              "      <td>1.338871e+02</td>\n",
              "      <td>1.571654e+00</td>\n",
              "      <td>3.083466e-01</td>\n",
              "      <td>7.573080e+02</td>\n",
              "      <td>1.220123e+03</td>\n",
              "      <td>1.574239e+02</td>\n",
              "      <td>8.754725e+02</td>\n",
              "      <td>4.036693e+04</td>\n",
              "      <td>4.095321e+04</td>\n",
              "      <td>3.128335e+03</td>\n",
              "    </tr>\n",
              "    <tr>\n",
              "      <th>min</th>\n",
              "      <td>8.000000e+00</td>\n",
              "      <td>0.000000e+00</td>\n",
              "      <td>0.000000e+00</td>\n",
              "      <td>5.000000e+00</td>\n",
              "      <td>0.000000e+00</td>\n",
              "      <td>0.000000e+00</td>\n",
              "      <td>0.000000e+00</td>\n",
              "      <td>0.000000e+00</td>\n",
              "      <td>0.000000e+00</td>\n",
              "      <td>0.000000e+00</td>\n",
              "      <td>0.000000e+00</td>\n",
              "      <td>0.000000e+00</td>\n",
              "    </tr>\n",
              "    <tr>\n",
              "      <th>25%</th>\n",
              "      <td>1.100000e+01</td>\n",
              "      <td>1.211080e+05</td>\n",
              "      <td>5.000000e+00</td>\n",
              "      <td>6.000000e+00</td>\n",
              "      <td>1.000000e+00</td>\n",
              "      <td>7.900000e+01</td>\n",
              "      <td>0.000000e+00</td>\n",
              "      <td>0.000000e+00</td>\n",
              "      <td>0.000000e+00</td>\n",
              "      <td>1.791000e+03</td>\n",
              "      <td>2.056000e+03</td>\n",
              "      <td>4.000000e+00</td>\n",
              "    </tr>\n",
              "    <tr>\n",
              "      <th>50%</th>\n",
              "      <td>1.100000e+01</td>\n",
              "      <td>4.945610e+05</td>\n",
              "      <td>2.030000e+02</td>\n",
              "      <td>8.000000e+00</td>\n",
              "      <td>1.000000e+00</td>\n",
              "      <td>2.740000e+02</td>\n",
              "      <td>0.000000e+00</td>\n",
              "      <td>0.000000e+00</td>\n",
              "      <td>0.000000e+00</td>\n",
              "      <td>7.690000e+03</td>\n",
              "      <td>8.192000e+03</td>\n",
              "      <td>4.000000e+00</td>\n",
              "    </tr>\n",
              "    <tr>\n",
              "      <th>75%</th>\n",
              "      <td>4.000000e+01</td>\n",
              "      <td>1.115161e+06</td>\n",
              "      <td>2.070000e+02</td>\n",
              "      <td>9.000000e+00</td>\n",
              "      <td>1.000000e+00</td>\n",
              "      <td>6.000000e+02</td>\n",
              "      <td>0.000000e+00</td>\n",
              "      <td>0.000000e+00</td>\n",
              "      <td>0.000000e+00</td>\n",
              "      <td>2.166000e+04</td>\n",
              "      <td>2.234300e+04</td>\n",
              "      <td>4.000000e+00</td>\n",
              "    </tr>\n",
              "    <tr>\n",
              "      <th>max</th>\n",
              "      <td>4.500000e+01</td>\n",
              "      <td>2.798115e+13</td>\n",
              "      <td>6.000000e+02</td>\n",
              "      <td>4.130000e+02</td>\n",
              "      <td>5.000000e+01</td>\n",
              "      <td>9.999100e+05</td>\n",
              "      <td>9.990730e+05</td>\n",
              "      <td>6.449200e+04</td>\n",
              "      <td>5.479460e+05</td>\n",
              "      <td>2.800280e+06</td>\n",
              "      <td>2.870972e+06</td>\n",
              "      <td>6.366240e+05</td>\n",
              "    </tr>\n",
              "  </tbody>\n",
              "</table>\n",
              "</div>\n",
              "      <button class=\"colab-df-convert\" onclick=\"convertToInteractive('df-b5fd7074-b6c9-4cfd-8da1-784a398f19e5')\"\n",
              "              title=\"Convert this dataframe to an interactive table.\"\n",
              "              style=\"display:none;\">\n",
              "        \n",
              "  <svg xmlns=\"http://www.w3.org/2000/svg\" height=\"24px\"viewBox=\"0 0 24 24\"\n",
              "       width=\"24px\">\n",
              "    <path d=\"M0 0h24v24H0V0z\" fill=\"none\"/>\n",
              "    <path d=\"M18.56 5.44l.94 2.06.94-2.06 2.06-.94-2.06-.94-.94-2.06-.94 2.06-2.06.94zm-11 1L8.5 8.5l.94-2.06 2.06-.94-2.06-.94L8.5 2.5l-.94 2.06-2.06.94zm10 10l.94 2.06.94-2.06 2.06-.94-2.06-.94-.94-2.06-.94 2.06-2.06.94z\"/><path d=\"M17.41 7.96l-1.37-1.37c-.4-.4-.92-.59-1.43-.59-.52 0-1.04.2-1.43.59L10.3 9.45l-7.72 7.72c-.78.78-.78 2.05 0 2.83L4 21.41c.39.39.9.59 1.41.59.51 0 1.02-.2 1.41-.59l7.78-7.78 2.81-2.81c.8-.78.8-2.07 0-2.86zM5.41 20L4 18.59l7.72-7.72 1.47 1.35L5.41 20z\"/>\n",
              "  </svg>\n",
              "      </button>\n",
              "      \n",
              "  <style>\n",
              "    .colab-df-container {\n",
              "      display:flex;\n",
              "      flex-wrap:wrap;\n",
              "      gap: 12px;\n",
              "    }\n",
              "\n",
              "    .colab-df-convert {\n",
              "      background-color: #E8F0FE;\n",
              "      border: none;\n",
              "      border-radius: 50%;\n",
              "      cursor: pointer;\n",
              "      display: none;\n",
              "      fill: #1967D2;\n",
              "      height: 32px;\n",
              "      padding: 0 0 0 0;\n",
              "      width: 32px;\n",
              "    }\n",
              "\n",
              "    .colab-df-convert:hover {\n",
              "      background-color: #E2EBFA;\n",
              "      box-shadow: 0px 1px 2px rgba(60, 64, 67, 0.3), 0px 1px 3px 1px rgba(60, 64, 67, 0.15);\n",
              "      fill: #174EA6;\n",
              "    }\n",
              "\n",
              "    [theme=dark] .colab-df-convert {\n",
              "      background-color: #3B4455;\n",
              "      fill: #D2E3FC;\n",
              "    }\n",
              "\n",
              "    [theme=dark] .colab-df-convert:hover {\n",
              "      background-color: #434B5C;\n",
              "      box-shadow: 0px 1px 3px 1px rgba(0, 0, 0, 0.15);\n",
              "      filter: drop-shadow(0px 1px 2px rgba(0, 0, 0, 0.3));\n",
              "      fill: #FFFFFF;\n",
              "    }\n",
              "  </style>\n",
              "\n",
              "      <script>\n",
              "        const buttonEl =\n",
              "          document.querySelector('#df-b5fd7074-b6c9-4cfd-8da1-784a398f19e5 button.colab-df-convert');\n",
              "        buttonEl.style.display =\n",
              "          google.colab.kernel.accessAllowed ? 'block' : 'none';\n",
              "\n",
              "        async function convertToInteractive(key) {\n",
              "          const element = document.querySelector('#df-b5fd7074-b6c9-4cfd-8da1-784a398f19e5');\n",
              "          const dataTable =\n",
              "            await google.colab.kernel.invokeFunction('convertToInteractive',\n",
              "                                                     [key], {});\n",
              "          if (!dataTable) return;\n",
              "\n",
              "          const docLinkHtml = 'Like what you see? Visit the ' +\n",
              "            '<a target=\"_blank\" href=https://colab.research.google.com/notebooks/data_table.ipynb>data table notebook</a>'\n",
              "            + ' to learn more about interactive tables.';\n",
              "          element.innerHTML = '';\n",
              "          dataTable['output_type'] = 'display_data';\n",
              "          await google.colab.output.renderOutput(dataTable, element);\n",
              "          const docLink = document.createElement('div');\n",
              "          docLink.innerHTML = docLinkHtml;\n",
              "          element.appendChild(docLink);\n",
              "        }\n",
              "      </script>\n",
              "    </div>\n",
              "  </div>\n",
              "  "
            ]
          },
          "metadata": {},
          "execution_count": 209
        }
      ],
      "source": [
        "# some statistics info about the data\n",
        "\n",
        "invoice_train.describe()"
      ]
    },
    {
      "cell_type": "code",
      "execution_count": null,
      "metadata": {
        "id": "RwxnV5Bblqhi",
        "colab": {
          "base_uri": "https://localhost:8080/",
          "height": 300
        },
        "outputId": "fca9505e-221c-441a-f2e6-7117a1e0d826"
      },
      "outputs": [
        {
          "output_type": "execute_result",
          "data": {
            "text/plain": [
              "             disrict    client_catg         region         target\n",
              "count  135493.000000  135493.000000  135493.000000  135493.000000\n",
              "mean       63.511222      11.512506     206.159809       0.055841\n",
              "std         3.354400       4.423761     104.207044       0.229614\n",
              "min        60.000000      11.000000     101.000000       0.000000\n",
              "25%        62.000000      11.000000     103.000000       0.000000\n",
              "50%        62.000000      11.000000     107.000000       0.000000\n",
              "75%        69.000000      11.000000     307.000000       0.000000\n",
              "max        69.000000      51.000000     399.000000       1.000000"
            ],
            "text/html": [
              "\n",
              "  <div id=\"df-481bde3e-4c70-4706-8798-dffaf3375542\">\n",
              "    <div class=\"colab-df-container\">\n",
              "      <div>\n",
              "<style scoped>\n",
              "    .dataframe tbody tr th:only-of-type {\n",
              "        vertical-align: middle;\n",
              "    }\n",
              "\n",
              "    .dataframe tbody tr th {\n",
              "        vertical-align: top;\n",
              "    }\n",
              "\n",
              "    .dataframe thead th {\n",
              "        text-align: right;\n",
              "    }\n",
              "</style>\n",
              "<table border=\"1\" class=\"dataframe\">\n",
              "  <thead>\n",
              "    <tr style=\"text-align: right;\">\n",
              "      <th></th>\n",
              "      <th>disrict</th>\n",
              "      <th>client_catg</th>\n",
              "      <th>region</th>\n",
              "      <th>target</th>\n",
              "    </tr>\n",
              "  </thead>\n",
              "  <tbody>\n",
              "    <tr>\n",
              "      <th>count</th>\n",
              "      <td>135493.000000</td>\n",
              "      <td>135493.000000</td>\n",
              "      <td>135493.000000</td>\n",
              "      <td>135493.000000</td>\n",
              "    </tr>\n",
              "    <tr>\n",
              "      <th>mean</th>\n",
              "      <td>63.511222</td>\n",
              "      <td>11.512506</td>\n",
              "      <td>206.159809</td>\n",
              "      <td>0.055841</td>\n",
              "    </tr>\n",
              "    <tr>\n",
              "      <th>std</th>\n",
              "      <td>3.354400</td>\n",
              "      <td>4.423761</td>\n",
              "      <td>104.207044</td>\n",
              "      <td>0.229614</td>\n",
              "    </tr>\n",
              "    <tr>\n",
              "      <th>min</th>\n",
              "      <td>60.000000</td>\n",
              "      <td>11.000000</td>\n",
              "      <td>101.000000</td>\n",
              "      <td>0.000000</td>\n",
              "    </tr>\n",
              "    <tr>\n",
              "      <th>25%</th>\n",
              "      <td>62.000000</td>\n",
              "      <td>11.000000</td>\n",
              "      <td>103.000000</td>\n",
              "      <td>0.000000</td>\n",
              "    </tr>\n",
              "    <tr>\n",
              "      <th>50%</th>\n",
              "      <td>62.000000</td>\n",
              "      <td>11.000000</td>\n",
              "      <td>107.000000</td>\n",
              "      <td>0.000000</td>\n",
              "    </tr>\n",
              "    <tr>\n",
              "      <th>75%</th>\n",
              "      <td>69.000000</td>\n",
              "      <td>11.000000</td>\n",
              "      <td>307.000000</td>\n",
              "      <td>0.000000</td>\n",
              "    </tr>\n",
              "    <tr>\n",
              "      <th>max</th>\n",
              "      <td>69.000000</td>\n",
              "      <td>51.000000</td>\n",
              "      <td>399.000000</td>\n",
              "      <td>1.000000</td>\n",
              "    </tr>\n",
              "  </tbody>\n",
              "</table>\n",
              "</div>\n",
              "      <button class=\"colab-df-convert\" onclick=\"convertToInteractive('df-481bde3e-4c70-4706-8798-dffaf3375542')\"\n",
              "              title=\"Convert this dataframe to an interactive table.\"\n",
              "              style=\"display:none;\">\n",
              "        \n",
              "  <svg xmlns=\"http://www.w3.org/2000/svg\" height=\"24px\"viewBox=\"0 0 24 24\"\n",
              "       width=\"24px\">\n",
              "    <path d=\"M0 0h24v24H0V0z\" fill=\"none\"/>\n",
              "    <path d=\"M18.56 5.44l.94 2.06.94-2.06 2.06-.94-2.06-.94-.94-2.06-.94 2.06-2.06.94zm-11 1L8.5 8.5l.94-2.06 2.06-.94-2.06-.94L8.5 2.5l-.94 2.06-2.06.94zm10 10l.94 2.06.94-2.06 2.06-.94-2.06-.94-.94-2.06-.94 2.06-2.06.94z\"/><path d=\"M17.41 7.96l-1.37-1.37c-.4-.4-.92-.59-1.43-.59-.52 0-1.04.2-1.43.59L10.3 9.45l-7.72 7.72c-.78.78-.78 2.05 0 2.83L4 21.41c.39.39.9.59 1.41.59.51 0 1.02-.2 1.41-.59l7.78-7.78 2.81-2.81c.8-.78.8-2.07 0-2.86zM5.41 20L4 18.59l7.72-7.72 1.47 1.35L5.41 20z\"/>\n",
              "  </svg>\n",
              "      </button>\n",
              "      \n",
              "  <style>\n",
              "    .colab-df-container {\n",
              "      display:flex;\n",
              "      flex-wrap:wrap;\n",
              "      gap: 12px;\n",
              "    }\n",
              "\n",
              "    .colab-df-convert {\n",
              "      background-color: #E8F0FE;\n",
              "      border: none;\n",
              "      border-radius: 50%;\n",
              "      cursor: pointer;\n",
              "      display: none;\n",
              "      fill: #1967D2;\n",
              "      height: 32px;\n",
              "      padding: 0 0 0 0;\n",
              "      width: 32px;\n",
              "    }\n",
              "\n",
              "    .colab-df-convert:hover {\n",
              "      background-color: #E2EBFA;\n",
              "      box-shadow: 0px 1px 2px rgba(60, 64, 67, 0.3), 0px 1px 3px 1px rgba(60, 64, 67, 0.15);\n",
              "      fill: #174EA6;\n",
              "    }\n",
              "\n",
              "    [theme=dark] .colab-df-convert {\n",
              "      background-color: #3B4455;\n",
              "      fill: #D2E3FC;\n",
              "    }\n",
              "\n",
              "    [theme=dark] .colab-df-convert:hover {\n",
              "      background-color: #434B5C;\n",
              "      box-shadow: 0px 1px 3px 1px rgba(0, 0, 0, 0.15);\n",
              "      filter: drop-shadow(0px 1px 2px rgba(0, 0, 0, 0.3));\n",
              "      fill: #FFFFFF;\n",
              "    }\n",
              "  </style>\n",
              "\n",
              "      <script>\n",
              "        const buttonEl =\n",
              "          document.querySelector('#df-481bde3e-4c70-4706-8798-dffaf3375542 button.colab-df-convert');\n",
              "        buttonEl.style.display =\n",
              "          google.colab.kernel.accessAllowed ? 'block' : 'none';\n",
              "\n",
              "        async function convertToInteractive(key) {\n",
              "          const element = document.querySelector('#df-481bde3e-4c70-4706-8798-dffaf3375542');\n",
              "          const dataTable =\n",
              "            await google.colab.kernel.invokeFunction('convertToInteractive',\n",
              "                                                     [key], {});\n",
              "          if (!dataTable) return;\n",
              "\n",
              "          const docLinkHtml = 'Like what you see? Visit the ' +\n",
              "            '<a target=\"_blank\" href=https://colab.research.google.com/notebooks/data_table.ipynb>data table notebook</a>'\n",
              "            + ' to learn more about interactive tables.';\n",
              "          element.innerHTML = '';\n",
              "          dataTable['output_type'] = 'display_data';\n",
              "          await google.colab.output.renderOutput(dataTable, element);\n",
              "          const docLink = document.createElement('div');\n",
              "          docLink.innerHTML = docLinkHtml;\n",
              "          element.appendChild(docLink);\n",
              "        }\n",
              "      </script>\n",
              "    </div>\n",
              "  </div>\n",
              "  "
            ]
          },
          "metadata": {},
          "execution_count": 210
        }
      ],
      "source": [
        "# some statistics info about the data\n",
        "\n",
        "client_train.describe()"
      ]
    },
    {
      "cell_type": "code",
      "execution_count": null,
      "metadata": {
        "id": "pxknbAyxlqk9",
        "colab": {
          "base_uri": "https://localhost:8080/",
          "height": 271
        },
        "outputId": "5f976d39-9a60-4e15-8975-d26d5165c175"
      },
      "outputs": [
        {
          "output_type": "display_data",
          "data": {
            "text/plain": [
              "<Figure size 432x288 with 1 Axes>"
            ],
            "image/png": "[encoded data removed]"
          },
          "metadata": {
            "needs_background": "light"
          }
        }
      ],
      "source": [
        "# comparison between target an id column\n",
        "\n",
        "client_train.target.value_counts().plot(kind=\"bar\", color=[\"salmon\", \"lightblue\"]);"
      ]
    },
    {
      "cell_type": "code",
      "execution_count": null,
      "metadata": {
        "id": "zH2RL3gOlqn-",
        "colab": {
          "base_uri": "https://localhost:8080/",
          "height": 809
        },
        "outputId": "868b1922-4bda-48dd-f2ba-80ceebbaadf5"
      },
      "outputs": [
        {
          "output_type": "display_data",
          "data": {
            "text/plain": [
              "<Figure size 432x288 with 1 Axes>"
            ],
            "image/png": "[encoded data removed]"
          },
          "metadata": {
            "needs_background": "light"
          }
        },
        {
          "output_type": "display_data",
          "data": {
            "text/plain": [
              "<Figure size 432x288 with 1 Axes>"
            ],
            "image/png": "[encoded data removed]"
          },
          "metadata": {
            "needs_background": "light"
          }
        },
        {
          "output_type": "display_data",
          "data": {
            "text/plain": [
              "<Figure size 432x288 with 1 Axes>"
            ],
            "image/png": "[encoded data removed]"
          },
          "metadata": {
            "needs_background": "light"
          }
        }
      ],
      "source": [
        "# comparison between disrict , region and client_catg vs id\n",
        "\n",
        "for col in ['disrict','region','client_catg']:\n",
        "    region = client_train.groupby([col])['client_id'].count()\n",
        "    plt.bar(x=region.index, height=region.values)\n",
        "    plt.title(col+' distribution')\n",
        "    plt.show()"
      ]
    },
    {
      "cell_type": "code",
      "execution_count": null,
      "metadata": {
        "id": "6jKHzQ9yaWLQ",
        "colab": {
          "base_uri": "https://localhost:8080/",
          "height": 297
        },
        "outputId": "746761db-1c83-44ab-86c2-3cc03942bc6b"
      },
      "outputs": [
        {
          "output_type": "execute_result",
          "data": {
            "text/plain": [
              "<matplotlib.axes._subplots.AxesSubplot at 0x7f7a04617d90>"
            ]
          },
          "metadata": {},
          "execution_count": 213
        },
        {
          "output_type": "display_data",
          "data": {
            "text/plain": [
              "<Figure size 432x288 with 1 Axes>"
            ],
            "image/png": "[encoded data removed]"
          },
          "metadata": {
            "needs_background": "light"
          }
        }
      ],
      "source": [
        "## comparison between region vs target\n",
        "\n",
        "client_train[['region' , 'target']].plot(kind ='scatter' , x ='target' , y = 'region' )"
      ]
    },
    {
      "cell_type": "code",
      "execution_count": null,
      "metadata": {
        "id": "N9KBsxBwim1H",
        "colab": {
          "base_uri": "https://localhost:8080/",
          "height": 297
        },
        "outputId": "27428a27-4adf-456e-b962-aa412637a25f"
      },
      "outputs": [
        {
          "output_type": "execute_result",
          "data": {
            "text/plain": [
              "<matplotlib.axes._subplots.AxesSubplot at 0x7f7a036a6410>"
            ]
          },
          "metadata": {},
          "execution_count": 214
        },
        {
          "output_type": "display_data",
          "data": {
            "text/plain": [
              "<Figure size 432x288 with 1 Axes>"
            ],
            "image/png": "[encoded data removed]"
          },
          "metadata": {
            "needs_background": "light"
          }
        }
      ],
      "source": [
        "## comparison between disrict vs target\n",
        "\n",
        "client_train[['disrict' , 'target']].plot(kind ='scatter' , x ='target' , y = 'disrict' )"
      ]
    },
    {
      "cell_type": "code",
      "execution_count": null,
      "metadata": {
        "id": "h9gr7IEOYWvZ",
        "colab": {
          "base_uri": "https://localhost:8080/"
        },
        "outputId": "faa41592-6c20-4744-f3be-5b9b089a50d5"
      },
      "outputs": [
        {
          "output_type": "stream",
          "name": "stdout",
          "text": [
            "Number of unique values in invoice_train:\n",
            "client_id - 135493\n",
            "invoice_date - 8275\n",
            "tarif_type - 17\n",
            "counter_number - 201893\n",
            "counter_statue - 12\n",
            "counter_code - 42\n",
            "reading_remarque - 8\n",
            "counter_coefficient - 16\n",
            "consommation_level_1 - 8295\n",
            "consommation_level_2 - 12576\n",
            "consommation_level_3 - 2253\n",
            "consommation_level_4 - 12075\n",
            "old_index - 155648\n",
            "new_index - 157980\n",
            "months_number - 1370\n",
            "counter_type - 2\n"
          ]
        }
      ],
      "source": [
        "# unique values in our invoice data\n",
        "\n",
        "print('Number of unique values in invoice_train:')\n",
        "for col in invoice_train.columns:\n",
        "    print(f\"{col} - {invoice_train[col].nunique()}\")"
      ]
    },
    {
      "cell_type": "code",
      "execution_count": null,
      "metadata": {
        "id": "dFOzPgVIfNWx",
        "colab": {
          "base_uri": "https://localhost:8080/"
        },
        "outputId": "b869862a-2764-460a-fdf7-935ea2a877bc"
      },
      "outputs": [
        {
          "output_type": "stream",
          "name": "stdout",
          "text": [
            "Number of unique values in invoice_test:\n",
            "client_id - 58069\n",
            "invoice_date - 6934\n",
            "tarif_type - 16\n",
            "counter_number - 91966\n",
            "counter_statue - 6\n",
            "counter_code - 39\n",
            "reading_remarque - 4\n",
            "counter_coefficient - 7\n",
            "consommation_level_1 - 6546\n",
            "consommation_level_2 - 9700\n",
            "consommation_level_3 - 1862\n",
            "consommation_level_4 - 8838\n",
            "old_index - 116512\n",
            "new_index - 118365\n",
            "months_number - 914\n",
            "counter_type - 2\n"
          ]
        }
      ],
      "source": [
        "# unique values in our invoice test data\n",
        "\n",
        "print('Number of unique values in invoice_test:')\n",
        "for col in invoice_test.columns:\n",
        "    print(f\"{col} - {invoice_test[col].nunique()}\")"
      ]
    },
    {
      "cell_type": "markdown",
      "source": [
        "notes from the above comparison :\n",
        "\n",
        "*   I think there's something wrong with this column's values [counter_statue ]\n",
        "let's see"
      ],
      "metadata": {
        "id": "GFNNLtEXL4wy"
      }
    },
    {
      "cell_type": "code",
      "execution_count": null,
      "metadata": {
        "id": "h6Jc-KI-Vf12",
        "colab": {
          "base_uri": "https://localhost:8080/"
        },
        "outputId": "a59bd2dd-ca95-43bd-fa59-d9bea1ea8c81"
      },
      "outputs": [
        {
          "output_type": "stream",
          "name": "stdout",
          "text": [
            "['0' '1' '5' '4' '3' '2' '769' 'A' '618' '269375' '46' '420']\n"
          ]
        }
      ],
      "source": [
        "print(invoice_train['counter_statue'].unique())"
      ]
    },
    {
      "cell_type": "code",
      "execution_count": null,
      "metadata": {
        "id": "Hyn8Z-SFfBiW",
        "colab": {
          "base_uri": "https://localhost:8080/"
        },
        "outputId": "0eb3aef6-91f3-4d71-fa57-ddef20a941dc"
      },
      "outputs": [
        {
          "output_type": "stream",
          "name": "stdout",
          "text": [
            "[0 1 5 4 3 2]\n"
          ]
        }
      ],
      "source": [
        "print(invoice_test['counter_statue'].unique())"
      ]
    },
    {
      "cell_type": "markdown",
      "source": [
        "this coulmn above has mislabled data\n"
      ],
      "metadata": {
        "id": "Xd3U7ifNMBh9"
      }
    },
    {
      "cell_type": "code",
      "execution_count": null,
      "metadata": {
        "id": "PzWwgb5ZVf_T",
        "colab": {
          "base_uri": "https://localhost:8080/"
        },
        "outputId": "e4b94081-6af0-4def-a8b8-7f6ccb9d2f76"
      },
      "outputs": [
        {
          "output_type": "stream",
          "name": "stdout",
          "text": [
            "['ELEC' 'GAZ']\n"
          ]
        }
      ],
      "source": [
        "print(invoice_train['counter_type'].unique())"
      ]
    },
    {
      "cell_type": "markdown",
      "source": [
        "# **## Preforming Feature engineering ##**\n",
        "\n",
        "from the analysis above we need to prefrom the below ops :\n",
        "\n",
        "converting ELEC and Gas to numric values (0 , 1)"
      ],
      "metadata": {
        "id": "VQp8HIrkMWTQ"
      }
    },
    {
      "cell_type": "code",
      "execution_count": null,
      "metadata": {
        "id": "Sa1RsThPVgC8",
        "colab": {
          "base_uri": "https://localhost:8080/"
        },
        "outputId": "818e1e0c-8607-4b2b-88de-a1ad11054dd3"
      },
      "outputs": [
        {
          "output_type": "execute_result",
          "data": {
            "text/plain": [
              "array([0, 1])"
            ]
          },
          "metadata": {},
          "execution_count": 220
        }
      ],
      "source": [
        "# we need to lable encoding the counter_type column to be 0,1\n",
        "\n",
        "# label_encoder object knows how to understand word labels.\n",
        "label_encoder = preprocessing.LabelEncoder()\n",
        "\n",
        "# Encode labels in column 'counter_type'.\n",
        "invoice_train['counter_type']= label_encoder.fit_transform(invoice_train['counter_type'])\n",
        "\n",
        "invoice_train['counter_type'].unique()"
      ]
    },
    {
      "cell_type": "code",
      "execution_count": null,
      "metadata": {
        "id": "OW9h5FcNVgGc",
        "colab": {
          "base_uri": "https://localhost:8080/"
        },
        "outputId": "708a3ca4-c01c-4e62-e036-f98fa2835923"
      },
      "outputs": [
        {
          "output_type": "stream",
          "name": "stdout",
          "text": [
            "[0 1]\n"
          ]
        }
      ],
      "source": [
        "# check the counter_type column\n",
        "\n",
        "print(invoice_train['counter_type'].unique())"
      ]
    },
    {
      "cell_type": "code",
      "execution_count": null,
      "metadata": {
        "id": "lCkajmisVgJ7",
        "colab": {
          "base_uri": "https://localhost:8080/"
        },
        "outputId": "44c4b80d-d1bc-4b17-f2d5-46faeb3ee210"
      },
      "outputs": [
        {
          "output_type": "execute_result",
          "data": {
            "text/plain": [
              "array([0, 1])"
            ]
          },
          "metadata": {},
          "execution_count": 222
        }
      ],
      "source": [
        "# now for the test data\n",
        "\n",
        "invoice_test['counter_type']= label_encoder.fit_transform(invoice_test['counter_type'])\n",
        "\n",
        "invoice_test['counter_type'].unique()"
      ]
    },
    {
      "cell_type": "markdown",
      "source": [
        "\n",
        "function to do the next in client data:\n",
        "\n",
        "\n",
        "*   convert creation_date to data_time object\n",
        "\n",
        "*   convert columns (client_catg , disrict and region) to a type category\n",
        "\n",
        "*   from the analysis above in EDA PLT figuers regarding the region plot it appears that all the user id is between these region(100 , 200 , 300 ) so we divded the  [region] values into 3 groups\n",
        "\n",
        "*   finally create TSC to know when the account been created\n",
        "\n",
        "\n",
        "\n"
      ],
      "metadata": {
        "id": "wI_WfocEMoEL"
      }
    },
    {
      "cell_type": "code",
      "execution_count": null,
      "metadata": {
        "id": "Mh8rqoj0VgMb"
      },
      "outputs": [],
      "source": [
        "def client_feature_eng(client):\n",
        "\n",
        "    client['creation_date'] = pd.to_datetime(client['creation_date'])\n",
        "\n",
        "    client['client_catg'] = client['client_catg'].astype('category')\n",
        "    client['disrict'] = client['disrict'].astype('category')\n",
        "    client['region'] = client['region'].astype('category')\n",
        "\n",
        "    client['region_group'] = client['region'].apply(lambda x: 100 if x<100 else 300 if x>300 else 200)\n",
        "\n",
        "    client['TSC'] = (2021 - client['creation_date'].dt.year)*12 - client['creation_date'].dt.month\n",
        "\n",
        "\n",
        "\n",
        "    return client"
      ]
    },
    {
      "cell_type": "markdown",
      "source": [
        "## And for the Invoice data :\n",
        "\n",
        "\n",
        "\n",
        "*   convert creation_date to data_time object and made year and month and day columns\n",
        "\n",
        "*   fix Column counter_statue mislabled values\n",
        "*   made new column called delta_index which is made some improvment in the score"
      ],
      "metadata": {
        "id": "2ixKR5peM1q5"
      }
    },
    {
      "cell_type": "code",
      "execution_count": null,
      "metadata": {
        "id": "bXRar43cVgPq"
      },
      "outputs": [],
      "source": [
        "def invoice_feature_eng(invoice):\n",
        "\n",
        "      invoice['invoice_date'] = pd.to_datetime(invoice['invoice_date'], dayfirst=True)\n",
        "      invoice['invoice_month'] = invoice['invoice_date'].dt.day\n",
        "      invoice['invoice_month'] = invoice['invoice_date'].dt.week\n",
        "      invoice['invoice_month'] = invoice['invoice_date'].dt.month\n",
        "      invoice['invoice_year'] = invoice['invoice_date'].dt.year\n",
        "\n",
        "      invoice['counter_statue'] = invoice['counter_statue'].map({0:0,1:1,2:2,3:3,4:4,5:5,769:5,'0':0,'5':5,'1':1,'4':4,'A':0,618:5,269375:5,46:5,420:5})\n",
        "\n",
        "      invoice['delta_index'] = invoice['new_index'] - invoice['old_index']\n",
        "\n",
        "      invoice['is_weekday'] = ((pd.DatetimeIndex(invoice.invoice_date).dayofweek) // 5 == 1).astype(float)\n",
        "\n",
        "\n",
        "      return invoice"
      ]
    },
    {
      "cell_type": "code",
      "execution_count": null,
      "metadata": {
        "id": "iSMRXv-6VgS1"
      },
      "outputs": [],
      "source": [
        "# apply changes to both train and test\n",
        "client_trainnew = client_feature_eng(client_train)\n",
        "client_testnew = client_feature_eng(client_test)\n",
        "\n",
        "invoice_trainnew = invoice_feature_eng(invoice_train)\n",
        "invoice_testnew = invoice_feature_eng(invoice_test)"
      ]
    },
    {
      "cell_type": "markdown",
      "source": [
        "now for the below  \n",
        "\n",
        "* delta time = amount of time between the invoices\n",
        "\n",
        "\n",
        "* assigned some  aggregation features (max/mean/nunique/min/std) for contnious column except id column\n",
        "\n",
        "\n",
        "* invoice_per_cooperation = number of transactions for some amount of time\n"
      ],
      "metadata": {
        "id": "WXa1JiKONSk3"
      }
    },
    {
      "cell_type": "code",
      "execution_count": null,
      "metadata": {
        "id": "9qOQMvobVgV5"
      },
      "outputs": [],
      "source": [
        "def agg_feature(invoice, client_df, agg_stat):\n",
        "\n",
        "    invoice['delta_time'] = invoice.sort_values(['client_id','invoice_date']).groupby('client_id')['invoice_date'].diff().dt.days.reset_index(drop=True)\n",
        "    agg_trans = invoice.groupby('client_id')[agg_stat+['delta_time']].agg(['median','nunique','mean','std','min','max'])\n",
        "\n",
        "    agg_trans.columns = ['_'.join(col).strip() for col in agg_trans.columns.values]\n",
        "    agg_trans.reset_index(inplace=True)\n",
        "\n",
        "    df = invoice.groupby('client_id').size().reset_index(name='transactions_count')\n",
        "    agg_trans = pd.merge(df, agg_trans, on='client_id', how='left')\n",
        "\n",
        "    weekday_avg = invoice.groupby('client_id')[['is_weekday']].agg(['mean'])\n",
        "    weekday_avg.columns = ['_'.join(col).strip() for col in weekday_avg.columns.values]\n",
        "    weekday_avg.reset_index(inplace=True)\n",
        "    client_df = pd.merge(client_df, weekday_avg, on='client_id', how='left')\n",
        "\n",
        "    full_df = pd.merge(client_df, agg_trans, on='client_id', how='left')\n",
        "\n",
        "    full_df['invoice_per_cooperation'] = full_df['transactions_count'] / full_df['TSC']\n",
        "\n",
        "    return full_df"
      ]
    },
    {
      "cell_type": "code",
      "execution_count": null,
      "metadata": {
        "id": "Nw3YChssVgYs"
      },
      "outputs": [],
      "source": [
        "\n",
        "agg_stat_columns = [\n",
        " 'tarif_type',\n",
        " 'counter_number',\n",
        " 'counter_statue',\n",
        " 'counter_code',\n",
        " 'reading_remarque',\n",
        " 'consommation_level_1',\n",
        " 'consommation_level_2',\n",
        " 'consommation_level_3',\n",
        " 'consommation_level_4',\n",
        " 'old_index',\n",
        " 'new_index',\n",
        " 'months_number',\n",
        " 'counter_type',\n",
        " 'invoice_month',\n",
        " 'invoice_year',\n",
        " 'delta_index'\n",
        "]\n",
        "\n",
        "train_df1 = agg_feature(invoice_trainnew, client_trainnew, agg_stat_columns)\n",
        "test_df1 = agg_feature(invoice_testnew, client_testnew, agg_stat_columns)"
      ]
    },
    {
      "cell_type": "markdown",
      "source": [
        "statistical 'max_mean' and 'range' features which improved score"
      ],
      "metadata": {
        "id": "mXamEKmsP73t"
      }
    },
    {
      "cell_type": "code",
      "execution_count": null,
      "metadata": {
        "id": "jh9GohjqqdXV"
      },
      "outputs": [],
      "source": [
        "def new_features(df):\n",
        "\n",
        "    for col in agg_stat_columns:\n",
        "        df[col+'_range'] = df[col+'_max'] - df[col+'_min']\n",
        "        df[col+'_max_mean'] = df[col+'_max']/df[col+'_mean']\n",
        "\n",
        "    return df"
      ]
    },
    {
      "cell_type": "code",
      "execution_count": null,
      "metadata": {
        "id": "Qy9BaCswqdMI"
      },
      "outputs": [],
      "source": [
        "train_df2 = new_features(train_df1)\n",
        "test_df2 = new_features(test_df1)"
      ]
    },
    {
      "cell_type": "code",
      "execution_count": null,
      "metadata": {
        "id": "BOedlKOKsrEV"
      },
      "outputs": [],
      "source": [
        "# droping id and create date columns\n",
        "def drop(df):\n",
        "    col_drop = ['client_id', 'creation_date']\n",
        "    for col in col_drop:\n",
        "        df.drop([col], axis=1, inplace=True)\n",
        "    return df"
      ]
    },
    {
      "cell_type": "code",
      "execution_count": null,
      "metadata": {
        "id": "XHX_lw1osq4c"
      },
      "outputs": [],
      "source": [
        "train_df = drop(train_df2)\n",
        "test_df = drop(test_df2)"
      ]
    },
    {
      "cell_type": "markdown",
      "source": [
        "# Modeling"
      ],
      "metadata": {
        "id": "VfOv1C3tQpFf"
      }
    },
    {
      "cell_type": "code",
      "execution_count": null,
      "metadata": {
        "id": "uhVNNc5LmqjR"
      },
      "outputs": [],
      "source": [
        "y = train_df['target']\n",
        "X = train_df.drop('target',axis=1)\n",
        "\n",
        "feature_name = X.columns.tolist()"
      ]
    },
    {
      "cell_type": "code",
      "execution_count": null,
      "metadata": {
        "id": "e0jh725om0Aw"
      },
      "outputs": [],
      "source": [
        "# drop additional columns , too many features\n",
        "drop_col=['reading_remarque_max','counter_statue_min','counter_type_min','counter_type_max','counter_type_range',\n",
        "          'tarif_type_max', 'delta_index_min', 'consommation_level_4_mean']\n",
        "#assigning X , Y\n",
        "X = X.drop(drop_col, axis=1)\n",
        "test_df = test_df.drop(drop_col, axis=1)"
      ]
    },
    {
      "cell_type": "markdown",
      "source": [
        "\n",
        "\n",
        "\n",
        "*   using LightGBM\n",
        "*   optuna for hyperparameters tuning\n",
        "*   Optuna is an automatic hyperparameter optimization software framework, particularly designed for machine learning. It features an imperative, define-by-run style user API. Thanks to our define-by-run API, the code written with Optuna enjoys high modularity, and the user of Optuna can dynamically construct the search spaces for the hyperparameters.\n",
        "\n",
        "\n",
        "*   performed with respect to StratifiedKFold cross validation on 5 folds\n",
        "*   parameters were tuned but didn't achive the best score, but after\n",
        "manul tuning on the hyperparameter tuning results and adding of another parameters it did score higher\n",
        "\n"
      ],
      "metadata": {
        "id": "V9iYjlSUQsrl"
      }
    },
    {
      "cell_type": "code",
      "source": [
        "pip install optuna"
      ],
      "metadata": {
        "id": "WHuI3Pbt1NbD",
        "colab": {
          "base_uri": "https://localhost:8080/"
        },
        "outputId": "a63286a2-50c7-49a2-e89b-cfe4d2d94af3"
      },
      "execution_count": null,
      "outputs": [
        {
          "output_type": "stream",
          "name": "stdout",
          "text": [
            "Looking in indexes: https://pypi.org/simple, https://us-python.pkg.dev/colab-wheels/public/simple/\n",
            "Requirement already satisfied: optuna in /usr/local/lib/python3.7/dist-packages (3.0.3)\n",
            "Requirement already satisfied: tqdm in /usr/local/lib/python3.7/dist-packages (from optuna) (4.64.1)\n",
            "Requirement already satisfied: PyYAML in /usr/local/lib/python3.7/dist-packages (from optuna) (6.0)\n",
            "Requirement already satisfied: numpy in /usr/local/lib/python3.7/dist-packages (from optuna) (1.21.6)\n",
            "Requirement already satisfied: alembic>=1.5.0 in /usr/local/lib/python3.7/dist-packages (from optuna) (1.8.1)\n",
            "Requirement already satisfied: cmaes>=0.8.2 in /usr/local/lib/python3.7/dist-packages (from optuna) (0.8.2)\n",
            "Requirement already satisfied: sqlalchemy>=1.3.0 in /usr/local/lib/python3.7/dist-packages (from optuna) (1.4.41)\n",
            "Requirement already satisfied: colorlog in /usr/local/lib/python3.7/dist-packages (from optuna) (6.7.0)\n",
            "Requirement already satisfied: scipy<1.9.0,>=1.7.0 in /usr/local/lib/python3.7/dist-packages (from optuna) (1.7.3)\n",
            "Requirement already satisfied: cliff in /usr/local/lib/python3.7/dist-packages (from optuna) (3.10.1)\n",
            "Requirement already satisfied: importlib-metadata<5.0.0 in /usr/local/lib/python3.7/dist-packages (from optuna) (4.13.0)\n",
            "Requirement already satisfied: packaging>=20.0 in /usr/local/lib/python3.7/dist-packages (from optuna) (21.3)\n",
            "Requirement already satisfied: Mako in /usr/local/lib/python3.7/dist-packages (from alembic>=1.5.0->optuna) (1.2.3)\n",
            "Requirement already satisfied: importlib-resources in /usr/local/lib/python3.7/dist-packages (from alembic>=1.5.0->optuna) (5.10.0)\n",
            "Requirement already satisfied: zipp>=0.5 in /usr/local/lib/python3.7/dist-packages (from importlib-metadata<5.0.0->optuna) (3.9.0)\n",
            "Requirement already satisfied: typing-extensions>=3.6.4 in /usr/local/lib/python3.7/dist-packages (from importlib-metadata<5.0.0->optuna) (4.1.1)\n",
            "Requirement already satisfied: pyparsing!=3.0.5,>=2.0.2 in /usr/local/lib/python3.7/dist-packages (from packaging>=20.0->optuna) (3.0.9)\n",
            "Requirement already satisfied: greenlet!=0.4.17 in /usr/local/lib/python3.7/dist-packages (from sqlalchemy>=1.3.0->optuna) (1.1.3.post0)\n",
            "Requirement already satisfied: cmd2>=1.0.0 in /usr/local/lib/python3.7/dist-packages (from cliff->optuna) (2.4.2)\n",
            "Requirement already satisfied: pbr!=2.1.0,>=2.0.0 in /usr/local/lib/python3.7/dist-packages (from cliff->optuna) (5.10.0)\n",
            "Requirement already satisfied: PrettyTable>=0.7.2 in /usr/local/lib/python3.7/dist-packages (from cliff->optuna) (3.4.1)\n",
            "Requirement already satisfied: stevedore>=2.0.1 in /usr/local/lib/python3.7/dist-packages (from cliff->optuna) (3.5.1)\n",
            "Requirement already satisfied: autopage>=0.4.0 in /usr/local/lib/python3.7/dist-packages (from cliff->optuna) (0.5.1)\n",
            "Requirement already satisfied: pyperclip>=1.6 in /usr/local/lib/python3.7/dist-packages (from cmd2>=1.0.0->cliff->optuna) (1.8.2)\n",
            "Requirement already satisfied: wcwidth>=0.1.7 in /usr/local/lib/python3.7/dist-packages (from cmd2>=1.0.0->cliff->optuna) (0.2.5)\n",
            "Requirement already satisfied: attrs>=16.3.0 in /usr/local/lib/python3.7/dist-packages (from cmd2>=1.0.0->cliff->optuna) (22.1.0)\n",
            "Requirement already satisfied: MarkupSafe>=0.9.2 in /usr/local/lib/python3.7/dist-packages (from Mako->alembic>=1.5.0->optuna) (2.0.1)\n"
          ]
        }
      ]
    },
    {
      "metadata": {
        "trusted": true,
        "id": "3XWEuPAgty4C"
      },
      "cell_type": "code",
      "source": [
        "import optuna\n",
        "from optuna import Trial\n",
        "import gc\n",
        "import optuna\n",
        "from sklearn.model_selection import train_test_split\n",
        "import lightgbm as lgb\n",
        "\n",
        "category_cols = ['disrict', 'client_catg', 'region']\n",
        "\n",
        "def objective(trial:Trial):\n",
        "\n",
        "    gc.collect()\n",
        "    models=[]\n",
        "    validScore=0\n",
        "\n",
        "    model,log = fitLGBM(trial,X,y)\n",
        "\n",
        "    models.append(model)\n",
        "    gc.collect()\n",
        "    validScore+=log\n",
        "    validScore/=len(models)\n",
        "\n",
        "    return validScore"
      ],
      "execution_count": null,
      "outputs": []
    },
    {
      "metadata": {
        "trusted": true,
        "id": "6y-iGjS-ty4E"
      },
      "cell_type": "code",
      "source": [
        "def fitLGBM(trial,X, y):\n",
        "\n",
        "    params={\n",
        "      'n_estimators':trial.suggest_int('n_estimators', 0, 1000),\n",
        "      'num_leaves':trial.suggest_int('num_leaves', 2, 512),\n",
        "      'max_depth':trial.suggest_int('max_depth', 2, 128),\n",
        "      'learning_rate': trial.suggest_loguniform('learning_rate', 0.001, 0.15),\n",
        "      'min_split_gain': trial.suggest_loguniform('min_split_gain', 0.001, 0.1),\n",
        "      'feature_fraction':trial.suggest_uniform('feature_fraction',0.1, 1.0),\n",
        "      'bagging_freq':trial.suggest_int('bagging_freq',0.1,10),\n",
        "      'verbosity': -1,\n",
        "      'random_state':seed\n",
        "            }\n",
        "\n",
        "    # StratifiedKFold object with 5 splits, shuffle=True, random_state=seed.\n",
        "    stkfold = StratifiedKFold(n_splits=5, shuffle=True, random_state=seed)\n",
        "    model = LGBMClassifier(**params)\n",
        "\n",
        "    res=[]\n",
        "    for i, (tdx, vdx) in enumerate(stkfold.split(X, y)):\n",
        "        X_train, X_valid, y_train, y_valid = X.iloc[tdx], X.iloc[vdx], y[tdx], y[vdx]\n",
        "        model.fit(X_train, y_train,\n",
        "                 eval_set=[(X_train, y_train), (X_valid, y_valid)],\n",
        "                 early_stopping_rounds=30, verbose=False)\n",
        "        preds = model.predict_proba(X_valid)\n",
        "        res.append(roc_auc_score(y_valid, preds[:,1]))\n",
        "\n",
        "    err = np.mean(res)\n",
        "\n",
        "    return model, err"
      ],
      "execution_count": null,
      "outputs": []
    },
    {
      "cell_type": "code",
      "source": [],
      "metadata": {
        "id": "snVaADizSRxw"
      },
      "execution_count": null,
      "outputs": []
    },
    {
      "metadata": {
        "trusted": true,
        "id": "pCqbDy2hty4G"
      },
      "cell_type": "code",
      "source": [
        "model = LGBMClassifier(random_state=seed, n_estimators=861,num_leaves=136, max_depth=119,\n",
        "                       learning_rate=0.01034258141362138, min_split_gain=0.001658092505404705,\n",
        "                       feature_fraction=0.5447241621043165, bagging_freq=0)\n",
        "\n",
        "stkfold = StratifiedKFold(n_splits=5, shuffle=True, random_state=seed)\n",
        "\n",
        "def calc(X, y, model, cv):\n",
        "    res=[]\n",
        "    local_probs=pd.DataFrame()\n",
        "    probs = pd.DataFrame()\n",
        "\n",
        "    for i, (tdx, vdx) in enumerate(cv.split(X, y)):\n",
        "        X_train, X_valid, y_train, y_valid = X.iloc[tdx], X.iloc[vdx], y[tdx], y[vdx]\n",
        "        model.fit(X_train, y_train,\n",
        "                 eval_set=[(X_train, y_train), (X_valid, y_valid)],\n",
        "                 early_stopping_rounds=30, verbose=False)\n",
        "\n",
        "        preds = model.predict_proba(X_valid)\n",
        "        oof_predict = model.predict_proba(test_df)\n",
        "        local_probs['fold_%i'%i] = oof_predict[:,1]\n",
        "        res.append(roc_auc_score(y_valid, preds[:,1]))\n",
        "\n",
        "    print('ROC AUC:', round(np.mean(res), 6))\n",
        "    local_probs['res'] = local_probs.mean(axis=1)\n",
        "    probs['target'] = local_probs['res']\n",
        "\n",
        "    return probs"
      ],
      "execution_count": null,
      "outputs": []
    },
    {
      "cell_type": "code",
      "source": [
        "%%time\n",
        "probs = calc(X, y, model, stkfold)"
      ],
      "metadata": {
        "id": "Pgf8IBPm3JZd",
        "colab": {
          "base_uri": "https://localhost:8080/"
        },
        "outputId": "6a3f56ee-9eb0-48dd-af3d-9a0595c7a12a"
      },
      "execution_count": null,
      "outputs": [
        {
          "output_type": "stream",
          "name": "stdout",
          "text": [
            "ROC AUC: 0.896364\n",
            "CPU times: user 10min 30s, sys: 4.31 s, total: 10min 34s\n",
            "Wall time: 5min 29s\n"
          ]
        }
      ]
    },
    {
      "cell_type": "code",
      "source": [],
      "metadata": {
        "id": "ftsTPQnBVZlx"
      },
      "execution_count": null,
      "outputs": []
    },
    {
      "cell_type": "markdown",
      "source": [
        "## submission"
      ],
      "metadata": {
        "id": "zGFbpi8zT0aR"
      }
    },
    {
      "cell_type": "code",
      "source": [
        "submission = pd.DataFrame({\n",
        "        \"client_id\": SampleSubmission[\"client_id\"],\n",
        "        \"target\": probs['target']\n",
        "    })\n",
        "submission.to_csv(r'/content/drive/MyDrive/sm32.csv', index = False)"
      ],
      "metadata": {
        "id": "lvqZB8qs3JT_"
      },
      "execution_count": null,
      "outputs": []
    }
  ]
}